{
  "cells": [
    {
      "cell_type": "code",
      "execution_count": 1,
      "metadata": {
        "id": "8dt6h6I8HicY"
      },
      "outputs": [],
      "source": [
        "!pip install pandas scikit-learn matplotlib seaborn --quiet"
      ]
    },
    {
      "cell_type": "code",
      "execution_count": 14,
      "metadata": {
        "id": "5Mw_HMneL92l"
      },
      "outputs": [],
      "source": [
        "import pandas as pd\n",
        "import numpy as np\n",
        "from sklearn.ensemble import RandomForestClassifier\n",
        "from sklearn.model_selection import train_test_split\n",
        "from sklearn.model_selection import GridSearchCV, train_test_split\n",
        "import seaborn as sns\n",
        "import matplotlib.pyplot as plt\n",
        "from sklearn.metrics import classification_report, confusion_matrix, accuracy_score\n",
        "\n"
      ]
    },
    {
      "cell_type": "markdown",
      "metadata": {
        "id": "UPd1SYoHNPdr"
      },
      "source": [
        "ACES DATASET\n"
      ]
    },
    {
      "cell_type": "code",
      "execution_count": 15,
      "metadata": {
        "id": "1bpg18DwMGOa"
      },
      "outputs": [],
      "source": [
        "from scipy.io import loadmat\n",
        "import pandas as pd\n",
        "import numpy as np\n",
        "\n",
        "base_directory = '.'\n",
        "X = pd.DataFrame(loadmat(f'/content/DATASET/ACESExpr.mat')['data'])\n",
        "y = loadmat(f'/content/DATASET/ACESLabel.mat')['label'].reshape(-1)\n",
        "subtypes = np.loadtxt(f'/content/DATASET/ACES_Subtype.txt').astype(int)\n",
        "entrez_gene_id = loadmat(f'/content/DATASET/ACES_EntrezIds.mat')['entrez_ids']\n",
        "X.columns = entrez_gene_id.reshape(-1)"
      ]
    },
    {
      "cell_type": "markdown",
      "source": [
        "**RF Simple**"
      ],
      "metadata": {
        "id": "KK4b62sqC9Un"
      }
    },
    {
      "cell_type": "code",
      "execution_count": 16,
      "metadata": {
        "colab": {
          "base_uri": "https://localhost:8080/"
        },
        "id": "n30V8zd-OatJ",
        "outputId": "63728e87-4440-4f16-cba1-0cea3c0a4c44"
      },
      "outputs": [
        {
          "output_type": "stream",
          "name": "stdout",
          "text": [
            "X shape: (1616, 12750)\n",
            "y shape: (1616,)\n",
            "\n",
            "X sample (first 2 rows, first 5 genes):\n",
            "[[ 0.10613358 -0.03385032  0.08024156 -0.45017619  0.53153049  0.39247084\n",
            "   0.10864689 -0.19510369 -0.03583708 -0.16883119]\n",
            " [ 0.39469659  0.3944242  -0.14407069 -0.28516317  0.18738481  0.10154901\n",
            "   0.35171932  0.51011809 -0.55127033  0.98131516]]\n",
            "\n",
            "y sample (first 10 labels):\n",
            "[1 0 0 0 0 0 0 0 0 0]\n"
          ]
        }
      ],
      "source": [
        "  # Convert X (DataFrame) to 2D NumPy array\n",
        "X_np = X.values.astype(float)  # Shape: (1616, 12750)\n",
        "\n",
        "# Convert y (already 1D from reshape) to int type\n",
        "y_np = y.astype(int)           # Shape: (1616,)\n",
        "\n",
        "# Print shapes to verify\n",
        "print(\"X shape:\", X_np.shape)\n",
        "print(\"y shape:\", y_np.shape)\n",
        "\n",
        "# Preview first 2 samples (rows) and first 5 genes (columns)\n",
        "print(\"\\nX sample (first 2 rows, first 5 genes):\")\n",
        "print(X_np[:2, :10])\n",
        "\n",
        "# Preview first 10 labels\n",
        "print(\"\\ny sample (first 10 labels):\")\n",
        "print(y_np[:10])\n"
      ]
    },
    {
      "cell_type": "code",
      "execution_count": 17,
      "metadata": {
        "colab": {
          "base_uri": "https://localhost:8080/"
        },
        "id": "RPRKb5heQm66",
        "outputId": "34451dea-16d3-4f75-e75d-824b55b99fef"
      },
      "outputs": [
        {
          "output_type": "stream",
          "name": "stdout",
          "text": [
            "Fitting 5 folds for each of 162 candidates, totalling 810 fits\n",
            "Best Hyperparameters: {'class_weight': 'balanced', 'max_depth': 10, 'max_features': 'sqrt', 'min_samples_leaf': 2, 'min_samples_split': 2, 'n_estimators': 200}\n"
          ]
        }
      ],
      "source": [
        "# Step 2: Split the data\n",
        "X_train, X_test, y_train, y_test = train_test_split(\n",
        "    X_np, y_np, test_size=0.2, random_state=42, stratify=y_np\n",
        ")\n",
        "\n",
        "# Step 3: Define the Random Forest and hyperparameter grid\n",
        "rf = RandomForestClassifier(random_state=42, n_jobs=-1)\n",
        "\n",
        "param_grid = {\n",
        "    'n_estimators': [50, 100, 200],\n",
        "    'max_depth': [10, 20, None],\n",
        "    'min_samples_split': [2, 5, 7],\n",
        "    'min_samples_leaf': [1, 2, 3],\n",
        "    'max_features': ['sqrt', 'log2'],\n",
        "    'class_weight': ['balanced']\n",
        "}\n",
        "\n",
        "# Step 4: Set up GridSearchCV\n",
        "grid_search = GridSearchCV(\n",
        "    estimator=rf,\n",
        "    param_grid=param_grid,\n",
        "    cv=5,\n",
        "    n_jobs=-1,\n",
        "    scoring='accuracy',\n",
        "    verbose=1\n",
        ")\n",
        "\n",
        "# Step 5: Fit the model\n",
        "grid_search.fit(X_train, y_train)\n",
        "\n",
        "# Step 6: Get the best model\n",
        "best_rf = grid_search.best_estimator_\n",
        "print(\"Best Hyperparameters:\", grid_search.best_params_)\n"
      ]
    },
    {
      "cell_type": "code",
      "execution_count": 18,
      "metadata": {
        "id": "AWNGzHHISsOm",
        "colab": {
          "base_uri": "https://localhost:8080/",
          "height": 629
        },
        "outputId": "4cae8fb8-9171-4363-e877-9cd36538b098"
      },
      "outputs": [
        {
          "output_type": "stream",
          "name": "stdout",
          "text": [
            "\n",
            "Classification Report:\n",
            "               precision    recall  f1-score   support\n",
            "\n",
            "           0       0.75      0.96      0.84       233\n",
            "           1       0.64      0.20      0.30        91\n",
            "\n",
            "    accuracy                           0.74       324\n",
            "   macro avg       0.70      0.58      0.57       324\n",
            "weighted avg       0.72      0.74      0.69       324\n",
            "\n",
            "Accuracy: 0.7438271604938271\n"
          ]
        },
        {
          "output_type": "display_data",
          "data": {
            "text/plain": [
              "<Figure size 600x400 with 2 Axes>"
            ],
            "image/png": "[encoded data removed]"
          },
          "metadata": {}
        }
      ],
      "source": [
        "# Step 7: Evaluate on test set\n",
        "y_pred = best_rf.predict(X_test)\n",
        "print(\"\\nClassification Report:\\n\", classification_report(y_test, y_pred))\n",
        "print(\"Accuracy:\", accuracy_score(y_test, y_pred))\n",
        "\n",
        "# Step 8: Confusion Matrix\n",
        "conf_matrix = confusion_matrix(y_test, y_pred)\n",
        "plt.figure(figsize=(6, 4))\n",
        "sns.heatmap(conf_matrix, annot=True, fmt=\"d\", cmap=\"Blues\", xticklabels=[\"No Metastasis\", \"Metastasis\"], yticklabels=[\"No Metastasis\", \"Metastasis\"])\n",
        "plt.xlabel(\"Predicted\")\n",
        "plt.ylabel(\"True\")\n",
        "plt.title(\"Confusion Matrix\")\n",
        "plt.show()"
      ]
    },
    {
      "cell_type": "markdown",
      "source": [
        "**RF with SMOTE**"
      ],
      "metadata": {
        "id": "72uLXkh8DwT8"
      }
    },
    {
      "cell_type": "code",
      "source": [
        "from sklearn.model_selection import train_test_split\n",
        "from imblearn.over_sampling import SMOTE\n",
        "from sklearn.ensemble import RandomForestClassifier\n",
        "from sklearn.metrics import classification_report\n",
        "\n",
        "# Step 1: Stratified split\n",
        "X_train, X_test, y_train, y_test = train_test_split(\n",
        "    X_np, y_np,\n",
        "    test_size=0.2,\n",
        "    stratify=y_np,\n",
        "    random_state=42\n",
        ")\n",
        "\n",
        "# Step 2: Oversample minority class\n",
        "sm = SMOTE(random_state=42)\n",
        "X_train_res, y_train_res = sm.fit_resample(X_train, y_train)\n",
        "\n",
        "# Step 3: Train with class weighting (optional, you can skip it since SMOTE balances)\n",
        "model = RandomForestClassifier(\n",
        "    n_estimators=100,\n",
        "    class_weight='balanced',\n",
        "    random_state=42,\n",
        "    n_jobs=-1\n",
        ")\n",
        "model.fit(X_train_res, y_train_res)\n",
        "\n",
        "y_pred = best_rf.predict(X_test)\n",
        "print(\"\\nClassification Report:\\n\", classification_report(y_test, y_pred))\n",
        "print(\"Accuracy:\", accuracy_score(y_test, y_pred))\n",
        "# Step 4: Evaluate\n",
        "y_pred = model.predict(X_test)\n",
        "print(classification_report(y_test, y_pred))\n"
      ],
      "metadata": {
        "colab": {
          "base_uri": "https://localhost:8080/"
        },
        "id": "AVoNCHzzD80a",
        "outputId": "fd4c7ce6-db10-4684-812d-8420007f4a42"
      },
      "execution_count": 19,
      "outputs": [
        {
          "output_type": "stream",
          "name": "stdout",
          "text": [
            "              precision    recall  f1-score   support\n",
            "\n",
            "           0       0.78      0.90      0.83       233\n",
            "           1       0.57      0.35      0.44        91\n",
            "\n",
            "    accuracy                           0.74       324\n",
            "   macro avg       0.68      0.62      0.63       324\n",
            "weighted avg       0.72      0.74      0.72       324\n",
            "\n"
          ]
        }
      ]
    },
    {
      "cell_type": "markdown",
      "source": [
        "**RF+Tomek Link**"
      ],
      "metadata": {
        "id": "lqq4I1PeHMWW"
      }
    },
    {
      "cell_type": "code",
      "source": [
        "!pip install imbalanced-learn --quiet\n",
        "\n",
        "from imblearn.combine import SMOTETomek\n",
        "from sklearn.model_selection import train_test_split\n",
        "from sklearn.ensemble import RandomForestClassifier\n",
        "from sklearn.metrics import classification_report\n",
        "\n",
        "# Step 1: Stratified train/test split\n",
        "X_train, X_test, y_train, y_test = train_test_split(\n",
        "    X_np, y_np, test_size=0.2, stratify=y_np, random_state=42\n",
        ")\n",
        "\n",
        "# Step 2: Apply SMOTE + Tomek Links\n",
        "smote_tomek = SMOTETomek(random_state=42)\n",
        "X_resampled, y_resampled = smote_tomek.fit_resample(X_train, y_train)\n",
        "\n",
        "# Step 3: Train model\n",
        "model = RandomForestClassifier(class_weight='balanced', random_state=42)\n",
        "model.fit(X_resampled, y_resampled)\n",
        "\n",
        "y_pred = best_rf.predict(X_test)\n",
        "print(\"\\nClassification Report:\\n\", classification_report(y_test, y_pred))\n",
        "print(\"Accuracy:\", accuracy_score(y_test, y_pred))\n",
        "# Step 4: Evaluate\n",
        "y_pred = model.predict(X_test)\n",
        "print(\"SMOTE + Tomek Links\")\n",
        "print(classification_report(y_test, y_pred))\n"
      ],
      "metadata": {
        "colab": {
          "base_uri": "https://localhost:8080/"
        },
        "id": "1gK_cRqoHTZ0",
        "outputId": "9d4d0cd2-3137-4792-cc5d-834e10faf6a6"
      },
      "execution_count": 20,
      "outputs": [
        {
          "output_type": "stream",
          "name": "stdout",
          "text": [
            "SMOTE + Tomek Links\n",
            "              precision    recall  f1-score   support\n",
            "\n",
            "           0       0.77      0.90      0.83       233\n",
            "           1       0.55      0.32      0.40        91\n",
            "\n",
            "    accuracy                           0.73       324\n",
            "   macro avg       0.66      0.61      0.62       324\n",
            "weighted avg       0.71      0.73      0.71       324\n",
            "\n"
          ]
        }
      ]
    },
    {
      "cell_type": "markdown",
      "source": [
        "Borderline SMOTE + RF"
      ],
      "metadata": {
        "id": "zjuSVRMXK2gm"
      }
    },
    {
      "cell_type": "code",
      "source": [
        "from imblearn.over_sampling import BorderlineSMOTE\n",
        "\n",
        "# Step 1: Stratified split (if not done already)\n",
        "X_train, X_test, y_train, y_test = train_test_split(\n",
        "    X_np, y_np, test_size=0.2, stratify=y_np, random_state=42\n",
        ")\n",
        "\n",
        "# Step 2: Apply Borderline-SMOTE\n",
        "border_smote = BorderlineSMOTE(kind='borderline-1', random_state=42)\n",
        "X_resampled, y_resampled = border_smote.fit_resample(X_train, y_train)\n",
        "\n",
        "# Step 3: Train model\n",
        "model = RandomForestClassifier(class_weight='balanced', random_state=42)\n",
        "model.fit(X_resampled, y_resampled)\n",
        "\n",
        "y_pred = best_rf.predict(X_test)\n",
        "print(\"\\nClassification Report:\\n\", classification_report(y_test, y_pred))\n",
        "print(\"Accuracy:\", accuracy_score(y_test, y_pred))\n",
        "\n",
        "# Step 4: Evaluate\n",
        "y_pred = model.predict(X_test)\n",
        "print(\"Borderline-SMOTE\")\n",
        "print(classification_report(y_test, y_pred))\n"
      ],
      "metadata": {
        "colab": {
          "base_uri": "https://localhost:8080/"
        },
        "id": "Edq91ZC5K2Ay",
        "outputId": "2feaf736-2765-4a31-fa4c-8d687b3a020f"
      },
      "execution_count": 21,
      "outputs": [
        {
          "output_type": "stream",
          "name": "stdout",
          "text": [
            "Borderline-SMOTE\n",
            "              precision    recall  f1-score   support\n",
            "\n",
            "           0       0.74      0.91      0.82       233\n",
            "           1       0.45      0.19      0.26        91\n",
            "\n",
            "    accuracy                           0.71       324\n",
            "   macro avg       0.59      0.55      0.54       324\n",
            "weighted avg       0.66      0.71      0.66       324\n",
            "\n"
          ]
        }
      ]
    },
    {
      "cell_type": "markdown",
      "source": [],
      "metadata": {
        "id": "8v1gsBF5K1v9"
      }
    }
  ],
  "metadata": {
    "colab": {
      "provenance": []
    },
    "kernelspec": {
      "display_name": "Python 3",
      "name": "python3"
    },
    "language_info": {
      "name": "python"
    }
  },
  "nbformat": 4,
  "nbformat_minor": 0
}